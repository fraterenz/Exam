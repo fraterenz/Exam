{
 "cells": [
  {
   "cell_type": "markdown",
   "metadata": {},
   "source": [
    "# Descriptive statistical  exploratory analysis "
   ]
  },
  {
   "cell_type": "markdown",
   "metadata": {},
   "source": [
    "# 0. Basics"
   ]
  },
  {
   "cell_type": "markdown",
   "metadata": {},
   "source": [
    "### Load zip"
   ]
  },
  {
   "cell_type": "code",
   "execution_count": null,
   "metadata": {},
   "outputs": [],
   "source": [
    "colors = pd.read_csv(DATA_folder+'lego/colors.csv.zip', compression=\"zip\")"
   ]
  },
  {
   "cell_type": "markdown",
   "metadata": {},
   "source": [
    "### IN… NOT IN"
   ]
  },
  {
   "cell_type": "code",
   "execution_count": null,
   "metadata": {},
   "outputs": [],
   "source": [
    "# in\n",
    "airports[airports.type.isin(['heliport', 'balloonport'])]\n",
    "data[\n",
    "    (data['County']=='Wisconsin') | \n",
    "    (data['County']=='Tennessee') | \n",
    "    (data['County']=='Minnesota')\n",
    "]\n",
    "# not in\n",
    "airports[~airports.type.isin(['heliport', 'balloonport'])]"
   ]
  },
  {
   "cell_type": "markdown",
   "metadata": {},
   "source": [
    "# 1. Types and Encoding"
   ]
  },
  {
   "cell_type": "markdown",
   "metadata": {},
   "source": [
    "### Types"
   ]
  },
  {
   "cell_type": "code",
   "execution_count": null,
   "metadata": {},
   "outputs": [],
   "source": [
    "data.dtypes"
   ]
  },
  {
   "cell_type": "markdown",
   "metadata": {},
   "source": [
    "###  Nans"
   ]
  },
  {
   "cell_type": "markdown",
   "metadata": {},
   "source": [
    "**Check if nan's in columns**:\n",
    "   * if missing values NA in column you want to predict : need to remove them (check how many there are)"
   ]
  },
  {
   "cell_type": "code",
   "execution_count": null,
   "metadata": {},
   "outputs": [],
   "source": [
    "# quantify NaNs & fill in NaN values for each column\n",
    "pokemons.isna().sum()\n",
    "\n",
    "# drop missing values in prediction output\n",
    "data.dropna(inplace=True)\n",
    "\n",
    "# return rows containing nan values\n",
    "pokemons[pokemons.isnull().any(axis=1)]\n",
    "\n",
    "# pokemons.isnull() return a mask true false for dataframe\n",
    "# pokemons.isnull().any(axis=1) reduces to only get row id where nan is present "
   ]
  },
  {
   "cell_type": "markdown",
   "metadata": {},
   "source": [
    "#### 1.1 convert object type to categorical "
   ]
  },
  {
   "cell_type": "code",
   "execution_count": null,
   "metadata": {},
   "outputs": [],
   "source": [
    "# 1. \n",
    "for col in data.select_dtypes(exclude=['float64']):\n",
    "    data[col] = data[col].astype('category')\n",
    "data.dtypes\n",
    "\n",
    "\n",
    "# 2. alternative\n",
    "for col in columns_lits:\n",
    "    data[col] = data[col].astype('category')"
   ]
  },
  {
   "cell_type": "markdown",
   "metadata": {},
   "source": [
    "#### 1.2 convert boolean (T/F) to 1,0"
   ]
  },
  {
   "cell_type": "code",
   "execution_count": null,
   "metadata": {},
   "outputs": [],
   "source": [
    "# if data not boolean ('Adoption', 'Not adoption')\n",
    "animal_shelter_pd['outcome_type'] = (animal_shelter_pd['outcome_type'] == 'Adoption').astype('float64')\n",
    "\n",
    "# if data already boolean\n",
    "pokemons['Legendary'] = (pokemons['Legendary'] == True).astype(np.uint8)"
   ]
  },
  {
   "cell_type": "markdown",
   "metadata": {},
   "source": [
    "### Encoding"
   ]
  },
  {
   "cell_type": "markdown",
   "metadata": {},
   "source": [
    "#### 1.1 one-hot (dummy encoding) encoding for categorical features"
   ]
  },
  {
   "cell_type": "code",
   "execution_count": null,
   "metadata": {},
   "outputs": [],
   "source": [
    "# convert onto category if you havent done yet\n",
    "for col in data.select_dtypes(exclude=['float64']):\n",
    "    data[col] = data[col].astype('category')\n",
    "# one hot dummy encoding\n",
    "data = pd.get_dummies(data, columns=data.select_dtypes(include='category').columns)\n",
    "data.head()"
   ]
  },
  {
   "cell_type": "markdown",
   "metadata": {},
   "source": [
    "#### 1.2 ordinal encoding (label encoding) for categorical features"
   ]
  },
  {
   "cell_type": "code",
   "execution_count": null,
   "metadata": {},
   "outputs": [],
   "source": [
    "# Then you can assign the encoded variable to a new column using the cat.codes accessor:\n",
    "features['Class 1_x'] = features['Class 1_x'].astype('category').cat.codes"
   ]
  },
  {
   "cell_type": "markdown",
   "metadata": {},
   "source": [
    "# 2. Analyze your distributions"
   ]
  },
  {
   "cell_type": "markdown",
   "metadata": {},
   "source": [
    "**Distributions**: \n",
    "* fra's describe function\n",
    "    * histogram\n",
    "    * boxplot\n",
    "    * describe (std, mean, 50%, min, max)\n",
    "* pairwise plot to check if correlated and spearman correlation"
   ]
  },
  {
   "cell_type": "code",
   "execution_count": null,
   "metadata": {},
   "outputs": [],
   "source": [
    "# for pairwise plot\n",
    "sns.pairplot(pokemons);\n",
    "plt.suptitle('Pairwise plot', fontsize=20)\n",
    "plt.subplots_adjust(top=.9)\n",
    "plt.show()\n",
    "\n",
    "pokemons.corr(method='spearman')"
   ]
  },
  {
   "cell_type": "markdown",
   "metadata": {},
   "source": [
    "# Pre-ML"
   ]
  },
  {
   "cell_type": "markdown",
   "metadata": {},
   "source": [
    "## split dataset pandas into train test"
   ]
  },
  {
   "cell_type": "code",
   "execution_count": null,
   "metadata": {},
   "outputs": [],
   "source": [
    "# select randomly 80% data for training set, the rest for test set\n",
    "train = data.sample(frac=0.8,random_state=200)\n",
    "test = data.drop(train.index)\n",
    "print(train.shape)\n",
    "print(test.shape)"
   ]
  },
  {
   "cell_type": "markdown",
   "metadata": {},
   "source": [
    "## standardize data  "
   ]
  },
  {
   "cell_type": "code",
   "execution_count": null,
   "metadata": {},
   "outputs": [],
   "source": [
    "# standardize all features except label to mean 0 variance 1\n",
    "def standardize_features(train: np.ndarray, test: np.ndarray) -> tuple:\n",
    "    train_std = ((train-train.mean())/train.std())\n",
    "    test_std = ((test-train.mean()())/train.std())\n",
    "    return train_std, test_std"
   ]
  },
  {
   "cell_type": "code",
   "execution_count": null,
   "metadata": {},
   "outputs": [],
   "source": []
  },
  {
   "cell_type": "code",
   "execution_count": null,
   "metadata": {},
   "outputs": [],
   "source": []
  },
  {
   "cell_type": "markdown",
   "metadata": {},
   "source": [
    "## Convert True/False column to 1.0/0.0"
   ]
  },
  {
   "cell_type": "code",
   "execution_count": null,
   "metadata": {},
   "outputs": [],
   "source": [
    "# we change the outcome_type no adoption, adoption to a numerical format: 0,1\n",
    "import numpy as np\n",
    "\n",
    "# if data not boolean \n",
    "animal_shelter_pd['outcome_type'] = (animal_shelter_pd['outcome_type'] == 'Adoption').astype('float64')\n",
    "\n",
    "# if data already boolean\n",
    "pokemons['Legendary'] = (pokemons['Legendary'] == True).astype(np.uint8)\n",
    "pokemons.head(4)"
   ]
  },
  {
   "cell_type": "markdown",
   "metadata": {},
   "source": [
    "## Partition of elements (cats, dogs, ...) according to output (Adopted or not) and intake year (2014...)"
   ]
  },
  {
   "cell_type": "code",
   "execution_count": null,
   "metadata": {},
   "outputs": [],
   "source": [
    "sns.catplot(y=\"intake_year\", hue=\"animal_type\", kind=\"count\",\n",
    "            palette='pastel', edgecolor=\".6\",\n",
    "            data=animal_shelter_pd);"
   ]
  },
  {
   "cell_type": "markdown",
   "metadata": {},
   "source": [
    "## Simpson's paradox "
   ]
  },
  {
   "cell_type": "code",
   "execution_count": 1,
   "metadata": {},
   "outputs": [
    {
     "ename": "NameError",
     "evalue": "name 'pokemons' is not defined",
     "output_type": "error",
     "traceback": [
      "\u001b[0;31m---------------------------------------------------------------------------\u001b[0m",
      "\u001b[0;31mNameError\u001b[0m                                 Traceback (most recent call last)",
      "\u001b[0;32m<ipython-input-1-fb10358b89a9>\u001b[0m in \u001b[0;36m<module>\u001b[0;34m()\u001b[0m\n\u001b[1;32m      1\u001b[0m \u001b[0;31m# Simpsons paradox have a look at variable speed within each class and distribution of variable speed over all classes\u001b[0m\u001b[0;34m\u001b[0m\u001b[0;34m\u001b[0m\u001b[0m\n\u001b[0;32m----> 2\u001b[0;31m \u001b[0mpokemons\u001b[0m\u001b[0;34m[\u001b[0m\u001b[0;34m[\u001b[0m\u001b[0;34m'Speed'\u001b[0m\u001b[0;34m,\u001b[0m\u001b[0;34m'Class 1'\u001b[0m\u001b[0;34m]\u001b[0m\u001b[0;34m]\u001b[0m\u001b[0;34m.\u001b[0m\u001b[0mgroupby\u001b[0m\u001b[0;34m(\u001b[0m\u001b[0;34m'Class 1'\u001b[0m\u001b[0;34m)\u001b[0m\u001b[0;34m.\u001b[0m\u001b[0magg\u001b[0m\u001b[0;34m(\u001b[0m\u001b[0;34m[\u001b[0m\u001b[0;34m'min'\u001b[0m\u001b[0;34m,\u001b[0m \u001b[0;34m'max'\u001b[0m\u001b[0;34m,\u001b[0m \u001b[0;34m'mean'\u001b[0m\u001b[0;34m,\u001b[0m \u001b[0;34m'median'\u001b[0m\u001b[0;34m]\u001b[0m\u001b[0;34m)\u001b[0m\u001b[0;34m\u001b[0m\u001b[0m\n\u001b[0m",
      "\u001b[0;31mNameError\u001b[0m: name 'pokemons' is not defined"
     ]
    }
   ],
   "source": [
    "# Simpsons paradox have a look at variable speed within each class and distribution of variable speed over all classes\n",
    "pokemons[['Speed','Class 1']].groupby('Class 1').agg(['min', 'max', 'mean', 'median'])"
   ]
  },
  {
   "cell_type": "markdown",
   "metadata": {},
   "source": [
    "## Count the number of unique instances in a column, if normalize = frequencies"
   ]
  },
  {
   "cell_type": "code",
   "execution_count": null,
   "metadata": {},
   "outputs": [],
   "source": [
    "top10_winners = combats['Winner'].value_counts(normalize=False, sort=True, ascending=False).head(10)\n",
    "# retrieve names using loc on index with dataframe\n",
    "pokemons.loc[top10_c.index].Name"
   ]
  },
  {
   "cell_type": "markdown",
   "metadata": {},
   "source": [
    "## suspects that Pokémon in the grass class have a stronger regular attack than those in the rock class:\n",
    "1. variance equal: t-test: \n",
    "2. variance not equal: welch test "
   ]
  },
  {
   "cell_type": "code",
   "execution_count": null,
   "metadata": {},
   "outputs": [],
   "source": [
    "scipy.stats.ttest_ind(a, b, axis=0, equal_var=True)"
   ]
  }
 ],
 "metadata": {
  "kernelspec": {
   "display_name": "Python [default]",
   "language": "python",
   "name": "python3"
  },
  "language_info": {
   "codemirror_mode": {
    "name": "ipython",
    "version": 3
   },
   "file_extension": ".py",
   "mimetype": "text/x-python",
   "name": "python",
   "nbconvert_exporter": "python",
   "pygments_lexer": "ipython3",
   "version": "3.6.6"
  }
 },
 "nbformat": 4,
 "nbformat_minor": 2
}
