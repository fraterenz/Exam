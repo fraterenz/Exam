{
 "cells": [
  {
   "cell_type": "code",
   "execution_count": 1,
   "metadata": {},
   "outputs": [],
   "source": [
    "import pandas as pd\n",
    "import numpy as np\n",
    "import seaborn as sns\n",
    "import matplotlib.pyplot as plt\n",
    "import scipy\n",
    "import networkx as nx\n",
    "\n",
    "%matplotlib inline"
   ]
  },
  {
   "cell_type": "code",
   "execution_count": 2,
   "metadata": {},
   "outputs": [],
   "source": [
    "def describe_data(serie: pd.Series, title, nb_bins=None, kde=True, figsize=(10, 6)) -> pd.DataFrame:\n",
    "    \"\"\" Returns describe and plots of the Serie: plots are a boxplot and a histogram\n",
    "\n",
    "    :type kde: bool\n",
    "    :type nb_bins: int\n",
    "    :type title: str\n",
    "    :type serie: pd.Series\n",
    "    :param serie: serie to be described\n",
    "    :param title: title of the figure\n",
    "    :param nb_bins: nb of bins of hist\n",
    "    :param kde: wether or not to put a contour line in the hist\n",
    "    :return: described dataframe with plots\n",
    "    \"\"\"\n",
    "    if type(serie) != pd.core.series.Series:\n",
    "        raise TypeError('serie must be a pd.Series not {}'.format(type(serie)))\n",
    "    df = pd.DataFrame(data=serie)\n",
    "    f, axes = plt.subplots(1, 2, figsize=figsize)\n",
    "    sns.set_style(\"darkgrid\", {\"axes.facecolor\": \".9\"})\n",
    "    sns.boxplot(data=df, ax=axes[0])\n",
    "    sns.distplot(df, color=\"b\", kde=kde, ax=axes[1], bins=nb_bins)\n",
    "    plt.tight_layout()\n",
    "    plt.grid(True)\n",
    "    plt.suptitle(title, fontsize=20)\n",
    "    plt.subplots_adjust(top=.9)\n",
    "    plt.show()\n",
    "    return df.describe().T\n",
    "\n",
    "\n",
    "def pairwise_plot(df: pd.DataFrame) -> pd.DataFrame:\n",
    "    sns.set_style(\"darkgrid\", {\"axes.facecolor\": \".9\"})\n",
    "    sns.pairplot(df)\n",
    "    plt.suptitle('Pairwise plot', fontsize=20)\n",
    "    plt.subplots_adjust(top=.9)\n",
    "    plt.show()\n",
    "    return df.corr(method='spearman')\n",
    "\n",
    "\n",
    "def regression_plot(df: pd.DataFrame, col1: str, col2: str, title: str, figsize=(7, 5)):\n",
    "    \"\"\"\n",
    "    ScatterPlot data give dataframe df, col1 name, col2 name, title, and a linear regression model fit\n",
    "    return spearman corrrelation by default\n",
    "    \"\"\"\n",
    "    correlation_pearson = df[[col1, col2]].corr(method='pearson').iloc[0, 1]\n",
    "    correlation_spearman = df[[col1, col2]].corr(method='spearman').iloc[0, 1]\n",
    "    f, axes = plt.subplots(1, 1, figsize=figsize)\n",
    "    sns.set_style(\"darkgrid\", {\"axes.facecolor\": \".9\"})\n",
    "    sns.regplot(df[col1], df[col2], scatter_kws={'s': 3, 'color': 'blue'}, line_kws={'color': 'red'}, ax=axes)\n",
    "    f.suptitle(title)\n",
    "    plt.show()\n",
    "\n",
    "    print('Pearson correlation coefficient is: {:.2}   \\n'.format(correlation_pearson))\n",
    "    print('Spearman correlation coefficient is: {:.2}   \\n'.format(correlation_spearman))\n",
    "\n",
    "    return correlation_pearson, correlation_spearman"
   ]
  },
  {
   "cell_type": "code",
   "execution_count": null,
   "metadata": {},
   "outputs": [],
   "source": []
  }
 ],
 "metadata": {
  "kernelspec": {
   "display_name": "Python 3",
   "language": "python",
   "name": "python3"
  },
  "language_info": {
   "codemirror_mode": {
    "name": "ipython",
    "version": 3
   },
   "file_extension": ".py",
   "mimetype": "text/x-python",
   "name": "python",
   "nbconvert_exporter": "python",
   "pygments_lexer": "ipython3",
   "version": "3.6.7"
  }
 },
 "nbformat": 4,
 "nbformat_minor": 2
}
