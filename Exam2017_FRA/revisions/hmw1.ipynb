{
 "cells": [
  {
   "cell_type": "code",
   "execution_count": null,
   "metadata": {},
   "outputs": [],
   "source": [
    "import pandas as pd\n",
    "import numpy as np"
   ]
  },
  {
   "cell_type": "code",
   "execution_count": null,
   "metadata": {},
   "outputs": [],
   "source": [
    "DATA_folder = './data_hmw1/'"
   ]
  },
  {
   "cell_type": "code",
   "execution_count": null,
   "metadata": {},
   "outputs": [],
   "source": [
    "colors = pd.read_csv(DATA_folder+'lego/colors.csv.zip', compression=\"zip\")\n",
    "inventories = pd.read_csv(DATA_folder+'lego/inventories.csv.zip', compression=\"zip\")\n",
    "inventory_parts = pd.read_csv(DATA_folder+'lego/inventory_parts.csv.zip', compression=\"zip\")\n",
    "inventory_sets = pd.read_csv(DATA_folder+'lego/inventory_sets.csv.zip', compression=\"zip\")\n",
    "part_categories = pd.read_csv(DATA_folder+'lego/part_categories.csv.zip', compression=\"zip\")\n",
    "parts = pd.read_csv(DATA_folder+'lego/parts.csv.zip', compression=\"zip\")\n",
    "sets = pd.read_csv(DATA_folder+'lego/sets.csv.zip', compression=\"zip\")\n",
    "themes = pd.read_csv(DATA_folder+'lego/themes.csv.zip', compression=\"zip\")"
   ]
  },
  {
   "cell_type": "markdown",
   "metadata": {},
   "source": [
    "### A2. Cleaning phase: Explore the following columns from your dataset: sets: year inventory_parts: quantity What is the time range of the sets? What is the average quantity of the inventory parts? Do you see any inconsistencies? Provide code that detects and cleans such inconsistencies and validates the coherence of your dataset"
   ]
  },
  {
   "cell_type": "code",
   "execution_count": null,
   "metadata": {},
   "outputs": [],
   "source": [
    "sets.dtypes"
   ]
  },
  {
   "cell_type": "code",
   "execution_count": null,
   "metadata": {},
   "outputs": [],
   "source": [
    "sets.head()"
   ]
  },
  {
   "cell_type": "code",
   "execution_count": null,
   "metadata": {},
   "outputs": [],
   "source": [
    "sets['year'] = pd.to_numeric(sets['year'], errors='coerce')\n",
    "a = sets.year.astype(np.uint8, errors='ignore')"
   ]
  },
  {
   "cell_type": "code",
   "execution_count": null,
   "metadata": {},
   "outputs": [],
   "source": [
    "a.dtypes"
   ]
  },
  {
   "cell_type": "code",
   "execution_count": null,
   "metadata": {},
   "outputs": [],
   "source": [
    "sets['year']"
   ]
  },
  {
   "cell_type": "code",
   "execution_count": null,
   "metadata": {},
   "outputs": [],
   "source": []
  }
 ],
 "metadata": {
  "kernelspec": {
   "display_name": "Python 3",
   "language": "python",
   "name": "python3"
  },
  "language_info": {
   "codemirror_mode": {
    "name": "ipython",
    "version": 3
   },
   "file_extension": ".py",
   "mimetype": "text/x-python",
   "name": "python",
   "nbconvert_exporter": "python",
   "pygments_lexer": "ipython3",
   "version": "3.6.6"
  }
 },
 "nbformat": 4,
 "nbformat_minor": 2
}
